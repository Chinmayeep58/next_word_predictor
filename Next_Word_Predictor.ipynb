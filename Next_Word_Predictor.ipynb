{
 "cells": [
  {
   "cell_type": "code",
   "execution_count": 4,
   "id": "ae15932e-0384-4900-8296-366ee37404f4",
   "metadata": {},
   "outputs": [],
   "source": [
    "import tensorflow\n",
    "from tensorflow.keras.preprocessing.text import Tokenizer\n",
    "from tensorflow.keras.layers import Embedding, LSTM, Dense\n",
    "from tensorflow.keras.models import Sequential\n",
    "from tensorflow.keras.utils import to_categorical\n",
    "from tensorflow.keras.optimizers import Adam\n",
    "import pickle\n",
    "import numpy as np\n",
    "import os"
   ]
  },
  {
   "cell_type": "code",
   "execution_count": 5,
   "id": "3a128074-e478-46a1-9c53-ef5389fc4efb",
   "metadata": {},
   "outputs": [],
   "source": [
    "file= open('data.txt','r',encoding=\"utf8\")"
   ]
  },
  {
   "cell_type": "code",
   "execution_count": 7,
   "id": "f31e57fa-c322-4f90-a25b-8d47d0cc4b6f",
   "metadata": {},
   "outputs": [],
   "source": [
    "lines=[]\n",
    "for i in file:\n",
    "    lines.append(i)"
   ]
  },
  {
   "cell_type": "code",
   "execution_count": 9,
   "id": "7a83904a-9eb2-43a7-998d-c32f2068f57e",
   "metadata": {},
   "outputs": [],
   "source": [
    "data=\"\"\n",
    "for i in lines:\n",
    "    data=' '.join(lines)"
   ]
  },
  {
   "cell_type": "code",
   "execution_count": 11,
   "id": "9afbe45e-b2d9-4217-9de9-5c7c2f8b0f33",
   "metadata": {},
   "outputs": [],
   "source": [
    "data=data.replace('\\n','').replace('\\r','').replace('\\ufeff','').replace('“','').replace('”','')"
   ]
  },
  {
   "cell_type": "code",
   "execution_count": 15,
   "id": "90969647-efc0-4e05-8a9b-75356ceaf930",
   "metadata": {},
   "outputs": [],
   "source": [
    "data=data.split()\n",
    "data=' '.join(data)"
   ]
  },
  {
   "cell_type": "code",
   "execution_count": 17,
   "id": "ffe90753-4359-430f-bc1c-0e51921bf4ac",
   "metadata": {},
   "outputs": [
    {
     "data": {
      "text/plain": [
       "\"THE ADVENTURES OF SHERLOCK HOLMES Arthur Conan Doyle Table of contents A Scandal in Bohemia The Red-Headed League A Case of Identity The Boscombe Valley Mystery The Five Orange Pips The Man with the Twisted Lip The Adventure of the Blue Carbuncle The Adventure of the Speckled Band The Adventure of the Engineer's Thumb The Adventure of the Noble Bachelor The Adventure of the Beryl Coronet The Adventure of the Copper Beeches A SCANDAL IN BOHEMIA Table of contents Chapter 1 Chapter 2 Chapter 3 CHAPTER I To Sherlock Holmes she is always the woman. I have seldom heard him mention her under any other name. In his eyes she eclipses and predominates the whole of her sex. It was not that he felt any emotion akin to love for Irene Adler. All emotions, and that one particularly, were abhorrent to his cold, precise but admirably balanced mind. He was, I take it, the most perfect reasoning and observing machine that the world has seen, but as a lover he would have placed himself in a false position\""
      ]
     },
     "execution_count": 17,
     "metadata": {},
     "output_type": "execute_result"
    }
   ],
   "source": [
    "data[:1000]"
   ]
  },
  {
   "cell_type": "code",
   "execution_count": 20,
   "id": "9ca8c467-3f96-4679-8236-806292d5b4e9",
   "metadata": {},
   "outputs": [],
   "source": [
    "tokenizer=Tokenizer()\n",
    "tokenizer.fit_on_texts([data])"
   ]
  },
  {
   "cell_type": "code",
   "execution_count": 22,
   "id": "993e88ca-fd3e-4c97-8e7d-ac55e7fdf58e",
   "metadata": {},
   "outputs": [],
   "source": [
    "pickle.dump(tokenizer, open('token.pkl','wb'))"
   ]
  },
  {
   "cell_type": "code",
   "execution_count": 25,
   "id": "5781dbf3-66cd-4373-91c7-4c34bb92c838",
   "metadata": {},
   "outputs": [],
   "source": [
    "sequence_data= tokenizer.texts_to_sequences([data])[0]"
   ]
  },
  {
   "cell_type": "code",
   "execution_count": 27,
   "id": "8914580f-0aa9-4f76-9d46-a7737166d744",
   "metadata": {},
   "outputs": [
    {
     "data": {
      "text/plain": [
       "[1, 1561, 5, 129, 34, 647, 4498, 4499, 226, 5]"
      ]
     },
     "execution_count": 27,
     "metadata": {},
     "output_type": "execute_result"
    }
   ],
   "source": [
    "sequence_data[:10]"
   ]
  },
  {
   "cell_type": "code",
   "execution_count": 28,
   "id": "4bdfa23d-af68-456d-bccb-5f3e556fb107",
   "metadata": {},
   "outputs": [
    {
     "data": {
      "text/plain": [
       "105879"
      ]
     },
     "execution_count": 28,
     "metadata": {},
     "output_type": "execute_result"
    }
   ],
   "source": [
    "len(sequence_data)"
   ]
  },
  {
   "cell_type": "code",
   "execution_count": 29,
   "id": "7f38d64e-f4cd-4ba0-8418-a1afe11aff1c",
   "metadata": {},
   "outputs": [],
   "source": [
    "vocab_size= len(tokenizer.word_index)+1"
   ]
  },
  {
   "cell_type": "code",
   "execution_count": 30,
   "id": "d9507e92-50d8-4328-8180-e1bcec634d6c",
   "metadata": {},
   "outputs": [
    {
     "data": {
      "text/plain": [
       "8200"
      ]
     },
     "execution_count": 30,
     "metadata": {},
     "output_type": "execute_result"
    }
   ],
   "source": [
    "vocab_size"
   ]
  },
  {
   "cell_type": "code",
   "execution_count": 35,
   "id": "29764e63-2e5d-4dfe-b4e0-7be59699c256",
   "metadata": {},
   "outputs": [],
   "source": [
    "sequence=[]\n",
    "for i in range(3,len(sequence_data)):\n",
    "    words=sequence_data[i-3:i+1]\n",
    "    sequence.append(words)"
   ]
  },
  {
   "cell_type": "code",
   "execution_count": 36,
   "id": "eb552362-919d-4105-bf11-11081a2daa34",
   "metadata": {},
   "outputs": [
    {
     "data": {
      "text/plain": [
       "105876"
      ]
     },
     "execution_count": 36,
     "metadata": {},
     "output_type": "execute_result"
    }
   ],
   "source": [
    "len(sequence)"
   ]
  },
  {
   "cell_type": "code",
   "execution_count": 37,
   "id": "8f894e93-f03b-4a1f-804e-595204e24292",
   "metadata": {},
   "outputs": [],
   "source": [
    "sequence=np.array(sequence)"
   ]
  },
  {
   "cell_type": "code",
   "execution_count": 38,
   "id": "1da5c9ee-5597-45a5-b23e-1a70af077f91",
   "metadata": {},
   "outputs": [
    {
     "data": {
      "text/plain": [
       "array([[   1, 1561,    5,  129],\n",
       "       [1561,    5,  129,   34],\n",
       "       [   5,  129,   34,  647],\n",
       "       ...,\n",
       "       [  28,    1, 8198, 8199],\n",
       "       [   1, 8198, 8199, 3187],\n",
       "       [8198, 8199, 3187, 3186]])"
      ]
     },
     "execution_count": 38,
     "metadata": {},
     "output_type": "execute_result"
    }
   ],
   "source": [
    "sequence"
   ]
  },
  {
   "cell_type": "code",
   "execution_count": 39,
   "id": "7db864f3-4de4-49ba-8454-ad74d2e444f6",
   "metadata": {},
   "outputs": [],
   "source": [
    "x=[]\n",
    "y=[]\n",
    "\n",
    "for i in sequence:\n",
    "    x.append(i[0:3])\n",
    "    y.append(i[3])"
   ]
  },
  {
   "cell_type": "code",
   "execution_count": 40,
   "id": "3404d5a0-5a27-45d3-a310-821a5ca89fc3",
   "metadata": {},
   "outputs": [],
   "source": [
    "x=np.array(x)\n",
    "y=np.array(y)"
   ]
  },
  {
   "cell_type": "code",
   "execution_count": 43,
   "id": "c6996e7f-22a7-4668-b047-ce172d5d273e",
   "metadata": {},
   "outputs": [],
   "source": [
    "y=to_categorical(y,num_classes=vocab_size)"
   ]
  },
  {
   "cell_type": "code",
   "execution_count": 45,
   "id": "310cd7e2-2a66-4ff9-b43b-76af443c29d0",
   "metadata": {},
   "outputs": [
    {
     "data": {
      "text/plain": [
       "array([[0., 0., 0., ..., 0., 0., 0.],\n",
       "       [0., 0., 0., ..., 0., 0., 0.],\n",
       "       [0., 0., 0., ..., 0., 0., 0.],\n",
       "       [0., 0., 0., ..., 0., 0., 0.],\n",
       "       [0., 0., 0., ..., 0., 0., 0.]])"
      ]
     },
     "execution_count": 45,
     "metadata": {},
     "output_type": "execute_result"
    }
   ],
   "source": [
    "y[:5]"
   ]
  },
  {
   "cell_type": "markdown",
   "id": "6d26b498-0678-4421-bc6a-85212ca6ba3d",
   "metadata": {},
   "source": [
    "Building a LTSM Model"
   ]
  },
  {
   "cell_type": "code",
   "execution_count": 51,
   "id": "15b6df5e-56d7-4a89-a592-fa169d36c5bc",
   "metadata": {},
   "outputs": [
    {
     "ename": "ValueError",
     "evalue": "Unrecognized keyword arguments passed to Embedding: {'input_len': 3}",
     "output_type": "error",
     "traceback": [
      "\u001b[31m---------------------------------------------------------------------------\u001b[39m",
      "\u001b[31mValueError\u001b[39m                                Traceback (most recent call last)",
      "\u001b[36mCell\u001b[39m\u001b[36m \u001b[39m\u001b[32mIn[51]\u001b[39m\u001b[32m, line 2\u001b[39m\n\u001b[32m      1\u001b[39m model=Sequential()\n\u001b[32m----> \u001b[39m\u001b[32m2\u001b[39m model.add(\u001b[43mEmbedding\u001b[49m\u001b[43m(\u001b[49m\u001b[43mvocab_size\u001b[49m\u001b[43m,\u001b[49m\u001b[32;43m10\u001b[39;49m\u001b[43m,\u001b[49m\u001b[43minput_len\u001b[49m\u001b[43m=\u001b[49m\u001b[32;43m3\u001b[39;49m\u001b[43m)\u001b[49m)\n\u001b[32m      3\u001b[39m model.add(LSTM(\u001b[32m1000\u001b[39m,return_sequences=\u001b[38;5;28;01mTrue\u001b[39;00m))\n\u001b[32m      4\u001b[39m model.add(LSTM(\u001b[32m1000\u001b[39m))\n",
      "\u001b[36mFile \u001b[39m\u001b[32mC:\\Python312\\Lib\\site-packages\\keras\\src\\layers\\core\\embedding.py:93\u001b[39m, in \u001b[36mEmbedding.__init__\u001b[39m\u001b[34m(self, input_dim, output_dim, embeddings_initializer, embeddings_regularizer, embeddings_constraint, mask_zero, weights, lora_rank, **kwargs)\u001b[39m\n\u001b[32m     89\u001b[39m \u001b[38;5;28;01mif\u001b[39;00m input_length \u001b[38;5;129;01mis\u001b[39;00m \u001b[38;5;129;01mnot\u001b[39;00m \u001b[38;5;28;01mNone\u001b[39;00m:\n\u001b[32m     90\u001b[39m     warnings.warn(\n\u001b[32m     91\u001b[39m         \u001b[33m\"\u001b[39m\u001b[33mArgument `input_length` is deprecated. Just remove it.\u001b[39m\u001b[33m\"\u001b[39m\n\u001b[32m     92\u001b[39m     )\n\u001b[32m---> \u001b[39m\u001b[32m93\u001b[39m \u001b[38;5;28;43msuper\u001b[39;49m\u001b[43m(\u001b[49m\u001b[43m)\u001b[49m\u001b[43m.\u001b[49m\u001b[34;43m__init__\u001b[39;49m\u001b[43m(\u001b[49m\u001b[43m*\u001b[49m\u001b[43m*\u001b[49m\u001b[43mkwargs\u001b[49m\u001b[43m)\u001b[49m\n\u001b[32m     94\u001b[39m \u001b[38;5;28mself\u001b[39m.input_dim = input_dim\n\u001b[32m     95\u001b[39m \u001b[38;5;28mself\u001b[39m.output_dim = output_dim\n",
      "\u001b[36mFile \u001b[39m\u001b[32mC:\\Python312\\Lib\\site-packages\\keras\\src\\layers\\layer.py:288\u001b[39m, in \u001b[36mLayer.__init__\u001b[39m\u001b[34m(self, activity_regularizer, trainable, dtype, autocast, name, **kwargs)\u001b[39m\n\u001b[32m    286\u001b[39m     \u001b[38;5;28mself\u001b[39m._input_shape_arg = input_shape_arg\n\u001b[32m    287\u001b[39m \u001b[38;5;28;01mif\u001b[39;00m kwargs:\n\u001b[32m--> \u001b[39m\u001b[32m288\u001b[39m     \u001b[38;5;28;01mraise\u001b[39;00m \u001b[38;5;167;01mValueError\u001b[39;00m(\n\u001b[32m    289\u001b[39m         \u001b[33m\"\u001b[39m\u001b[33mUnrecognized keyword arguments \u001b[39m\u001b[33m\"\u001b[39m\n\u001b[32m    290\u001b[39m         \u001b[33mf\u001b[39m\u001b[33m\"\u001b[39m\u001b[33mpassed to \u001b[39m\u001b[38;5;132;01m{\u001b[39;00m\u001b[38;5;28mself\u001b[39m.\u001b[34m__class__\u001b[39m.\u001b[34m__name__\u001b[39m\u001b[38;5;132;01m}\u001b[39;00m\u001b[33m: \u001b[39m\u001b[38;5;132;01m{\u001b[39;00mkwargs\u001b[38;5;132;01m}\u001b[39;00m\u001b[33m\"\u001b[39m\n\u001b[32m    291\u001b[39m     )\n\u001b[32m    293\u001b[39m \u001b[38;5;28mself\u001b[39m._path = \u001b[38;5;28;01mNone\u001b[39;00m  \u001b[38;5;66;03m# Will be determined in `build_wrapper`\u001b[39;00m\n\u001b[32m    294\u001b[39m \u001b[38;5;28mself\u001b[39m.built = \u001b[38;5;28;01mFalse\u001b[39;00m\n",
      "\u001b[31mValueError\u001b[39m: Unrecognized keyword arguments passed to Embedding: {'input_len': 3}"
     ]
    }
   ],
   "source": [
    "model=Sequential()\n",
    "model.add(Embedding(vocab_size,10,input_len=3))\n",
    "model.add(LSTM(1000,return_sequences=True))\n",
    "model.add(LSTM(1000))\n",
    "model.add(Dense(1000,activation='relu'))\n",
    "model.add(Dense(vocab_size,activation=\"softmax\"))"
   ]
  },
  {
   "cell_type": "code",
   "execution_count": null,
   "id": "de3e7edd-7da2-4115-b1ce-ca4c1dd89f6f",
   "metadata": {},
   "outputs": [],
   "source": []
  }
 ],
 "metadata": {
  "kernelspec": {
   "display_name": "Python 3 (ipykernel)",
   "language": "python",
   "name": "python3"
  },
  "language_info": {
   "codemirror_mode": {
    "name": "ipython",
    "version": 3
   },
   "file_extension": ".py",
   "mimetype": "text/x-python",
   "name": "python",
   "nbconvert_exporter": "python",
   "pygments_lexer": "ipython3",
   "version": "3.12.2"
  }
 },
 "nbformat": 4,
 "nbformat_minor": 5
}
